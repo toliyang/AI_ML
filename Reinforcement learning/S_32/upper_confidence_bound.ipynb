{
  "nbformat": 4,
  "nbformat_minor": 0,
  "metadata": {
    "colab": {
      "provenance": [],
      "include_colab_link": true
    },
    "kernelspec": {
      "name": "python3",
      "display_name": "Python 3"
    }
  },
  "cells": [
    {
      "cell_type": "markdown",
      "metadata": {
        "id": "view-in-github",
        "colab_type": "text"
      },
      "source": [
        "<a href=\"https://colab.research.google.com/github/toliyang/AI_ML/blob/main/Reinforcement%20learning/S_32/upper_confidence_bound.ipynb\" target=\"_parent\"><img src=\"https://colab.research.google.com/assets/colab-badge.svg\" alt=\"Open In Colab\"/></a>"
      ]
    },
    {
      "cell_type": "markdown",
      "metadata": {
        "id": "QJdrJJQUv3-k"
      },
      "source": [
        "# Upper Confidence Bound (UCB)"
      ]
    },
    {
      "cell_type": "markdown",
      "metadata": {
        "id": "2XCjepjJwEv-"
      },
      "source": [
        "## Importing the libraries"
      ]
    },
    {
      "cell_type": "code",
      "metadata": {
        "id": "l_mBkG3YwNTt"
      },
      "source": [
        "import numpy as np\n",
        "import pandas as pd\n",
        "import matplotlib.pyplot as plt\n",
        "import seaborn as sns\n",
        "import plotly.express as px"
      ],
      "execution_count": 2,
      "outputs": []
    },
    {
      "cell_type": "markdown",
      "metadata": {
        "id": "npqlXjaNwYTv"
      },
      "source": [
        "## Importing the dataset"
      ]
    },
    {
      "cell_type": "code",
      "metadata": {
        "id": "HMJfUVLVwcFc"
      },
      "source": [
        "# use url as the file path\n",
        "fp = 'https://raw.githubusercontent.com/toliyang/AI_ML/refs/heads/main/Reinforcement%20learning/S_32/Ads_CTR_Optimisation.csv'\n",
        "\n",
        "# get the dataset\n",
        "dataset = pd.read_csv(fp)"
      ],
      "execution_count": 3,
      "outputs": []
    },
    {
      "cell_type": "markdown",
      "metadata": {
        "id": "PaSbots_wfoB"
      },
      "source": [
        "## Implementing UCB"
      ]
    },
    {
      "cell_type": "code",
      "metadata": {
        "id": "V1K7jgDFwkRd"
      },
      "source": [
        "import math\n",
        "N = 600\n",
        "d = 10\n",
        "ads_selected = []\n",
        "numbers_of_selections = [0] * d\n",
        "sums_of_rewards = [0] * d\n",
        "total_reward = 0\n",
        "for n in range(N):\n",
        "  ad = 0\n",
        "  max_upper_bound = 0\n",
        "  for i in range(d):\n",
        "    if (numbers_of_selections[i] > 0):\n",
        "      average_reward = sums_of_rewards[i] / numbers_of_selections[i]\n",
        "      delta_i = math.sqrt(3/2 * math.log(n + 1) / numbers_of_selections[i])\n",
        "      upper_bound = average_reward + delta_i\n",
        "    else:\n",
        "      upper_bound = 1e400\n",
        "    if (upper_bound > max_upper_bound):\n",
        "      max_upper_bound = upper_bound\n",
        "      ad = i\n",
        "  ads_selected.append(ad)\n",
        "  numbers_of_selections[ad] = numbers_of_selections[ad] + 1\n",
        "  reward = dataset.values[n, ad]\n",
        "  sums_of_rewards[ad] = sums_of_rewards[ad] + reward\n",
        "  total_reward = total_reward + reward"
      ],
      "execution_count": 16,
      "outputs": []
    },
    {
      "cell_type": "markdown",
      "metadata": {
        "id": "AXftWcjDwsYj"
      },
      "source": [
        "## Visualising the results"
      ]
    },
    {
      "cell_type": "code",
      "metadata": {
        "id": "eVyD_EDXwtkK",
        "outputId": "fb9d4832-be05-4406-d880-92b113236418",
        "colab": {
          "base_uri": "https://localhost:8080/",
          "height": 472
        }
      },
      "source": [
        "plt.hist(ads_selected)\n",
        "plt.title('Histogram of ads selections')\n",
        "plt.xlabel('Ads')\n",
        "plt.ylabel('Number of times each ad was selected')\n",
        "plt.show()"
      ],
      "execution_count": 17,
      "outputs": [
        {
          "output_type": "display_data",
          "data": {
            "text/plain": [
              "<Figure size 640x480 with 1 Axes>"
            ],
            "image/png": "[encoded data removed]"
          },
          "metadata": {}
        }
      ]
    }
  ]
}